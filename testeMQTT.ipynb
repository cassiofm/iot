{
  "nbformat": 4,
  "nbformat_minor": 0,
  "metadata": {
    "colab": {
      "name": "testeMQTT.ipynb",
      "provenance": [],
      "authorship_tag": "ABX9TyOyShf7d3FMiy1zz2SkFmkJ",
      "include_colab_link": true
    },
    "kernelspec": {
      "name": "python3",
      "display_name": "Python 3"
    }
  },
  "cells": [
    {
      "cell_type": "markdown",
      "metadata": {
        "id": "view-in-github",
        "colab_type": "text"
      },
      "source": [
        "<a href=\"https://colab.research.google.com/github/cassiofm/iot/blob/main/testeMQTT.ipynb\" target=\"_parent\"><img src=\"https://colab.research.google.com/assets/colab-badge.svg\" alt=\"Open In Colab\"/></a>"
      ]
    },
    {
      "cell_type": "code",
      "metadata": {
        "id": "5tZ67RIVW2G2"
      },
      "source": [
        ""
      ],
      "execution_count": 5,
      "outputs": []
    },
    {
      "cell_type": "markdown",
      "metadata": {
        "id": "pvdB8r0GW34o"
      },
      "source": [
        "<h1>Internet das Coisas</h1>\n",
        "<h2>Comunicaçao com MQTT</h2>\n",
        "<h3>04/01/2020 <br> versao 1.0</h3>"
      ]
    },
    {
      "cell_type": "code",
      "metadata": {
        "id": "Il5YyNvxXOhR",
        "outputId": "39f25a12-b388-4b0b-ffd5-7ebb8b704f50",
        "colab": {
          "base_uri": "https://localhost:8080/"
        }
      },
      "source": [
        "! pip install paho-mqtt"
      ],
      "execution_count": 2,
      "outputs": [
        {
          "output_type": "stream",
          "text": [
            "Requirement already satisfied: paho-mqtt in /usr/local/lib/python3.6/dist-packages (1.5.1)\n"
          ],
          "name": "stdout"
        }
      ]
    },
    {
      "cell_type": "code",
      "metadata": {
        "id": "r7fDWGmlXmob"
      },
      "source": [
        "# Importando as bibliotecas necessárias\n",
        "import paho.mqtt.client as mqtt\n",
        "import sys"
      ],
      "execution_count": 3,
      "outputs": []
    },
    {
      "cell_type": "code",
      "metadata": {
        "id": "jE6d6WltYJ6n"
      },
      "source": [
        "# Definições\n",
        "Broker = \"test.mosquitto.org\"\n",
        "PortaBroker = 1883\n",
        "KeepAliveBroker = 60\n",
        "TopicoSubscribe = \"favaniot\""
      ],
      "execution_count": 4,
      "outputs": []
    },
    {
      "cell_type": "code",
      "metadata": {
        "id": "qNNr16FfZQ9A"
      },
      "source": [
        "# Função para conexão ao Broker (Callback)\n",
        "def on_connect(client, userdate, flags, rc):\n",
        "  print(\"[STATUS] Conectando ao Broker. Resultado da conexão: \"+str(rc))\n",
        "# Inserver-se no tópico\n",
        "  client.subscribe(TopicoSubscribe)"
      ],
      "execution_count": 5,
      "outputs": []
    },
    {
      "cell_type": "code",
      "metadata": {
        "id": "9-_nEYYugYA6"
      },
      "source": [
        " # Função para recebimento de mensagens (Callback)\n",
        "def on_message(client, userdata, msg):\n",
        "  MensagemRecebida = str(msg.payload)\n",
        "  print(\"[MSG RECEBIDA] Topico: \"+msg.topic+\" / Mensagem: \"+MensagemRecebida)"
      ],
      "execution_count": 6,
      "outputs": []
    },
    {
      "cell_type": "code",
      "metadata": {
        "id": "Hccwk9Q-hGhM",
        "outputId": "c545252a-2c34-4b4c-b794-389f60e39ef3",
        "colab": {
          "base_uri": "https://localhost:8080/",
          "height": 631
        }
      },
      "source": [
        "# Programa Principal\n",
        "try:\n",
        "  print(\"[STATUS] Inicializando o MQTT...\")\n",
        "  client = mqtt.Client()\n",
        "  client.on_connect = on_connect\n",
        "  client.on_message = on_message\n",
        "\n",
        " # Conexão prppriamente dita\n",
        "  client.connect(Broker, PortaBroker, KeepAliveBroker)\n",
        "  client.loop_forever()\n",
        "except KeyboardInterrupt:\n",
        "  print(\"\\n Ctrl+C pressionado, encerrando aplicação e saindo\")\n",
        "  sys.exit(0)"
      ],
      "execution_count": 7,
      "outputs": [
        {
          "output_type": "stream",
          "text": [
            "[STATUS] Inicializando o MQTT...\n",
            "[STATUS] Conectando ao Broker. Resultado da conexão: 0\n",
            "[MSG RECEBIDA] Topico: favaniot / Mensagem: b'0'\n",
            "[MSG RECEBIDA] Topico: favaniot / Mensagem: b'1'\n",
            "[MSG RECEBIDA] Topico: favaniot / Mensagem: b'0'\n",
            "[MSG RECEBIDA] Topico: favaniot / Mensagem: b'1'\n",
            "[MSG RECEBIDA] Topico: favaniot / Mensagem: b'0'\n",
            "[MSG RECEBIDA] Topico: favaniot / Mensagem: b'1'\n",
            "[MSG RECEBIDA] Topico: favaniot / Mensagem: b'0'\n",
            "[MSG RECEBIDA] Topico: favaniot / Mensagem: b'1'\n",
            "[MSG RECEBIDA] Topico: favaniot / Mensagem: b'0'\n",
            "[MSG RECEBIDA] Topico: favaniot / Mensagem: b'0'\n",
            "[MSG RECEBIDA] Topico: favaniot / Mensagem: b'1'\n",
            "[MSG RECEBIDA] Topico: favaniot / Mensagem: b'0'\n",
            "[MSG RECEBIDA] Topico: favaniot / Mensagem: b'1'\n",
            "[MSG RECEBIDA] Topico: favaniot / Mensagem: b'0'\n",
            "[MSG RECEBIDA] Topico: favaniot / Mensagem: b'1'\n",
            "[MSG RECEBIDA] Topico: favaniot / Mensagem: b'1'\n",
            "[MSG RECEBIDA] Topico: favaniot / Mensagem: b'0'\n",
            "[MSG RECEBIDA] Topico: favaniot / Mensagem: b'0'\n",
            "[MSG RECEBIDA] Topico: favaniot / Mensagem: b'1'\n",
            "[MSG RECEBIDA] Topico: favaniot / Mensagem: b'0'\n",
            "[MSG RECEBIDA] Topico: favaniot / Mensagem: b'1'\n",
            "[MSG RECEBIDA] Topico: favaniot / Mensagem: b'0'\n",
            "\n",
            " Ctrl+C pressionado, encerrando aplicação e saindo\n"
          ],
          "name": "stdout"
        },
        {
          "output_type": "error",
          "ename": "SystemExit",
          "evalue": "ignored",
          "traceback": [
            "An exception has occurred, use %tb to see the full traceback.\n",
            "\u001b[0;31mSystemExit\u001b[0m\u001b[0;31m:\u001b[0m 0\n"
          ]
        },
        {
          "output_type": "stream",
          "text": [
            "/usr/local/lib/python3.6/dist-packages/IPython/core/interactiveshell.py:2890: UserWarning: To exit: use 'exit', 'quit', or Ctrl-D.\n",
            "  warn(\"To exit: use 'exit', 'quit', or Ctrl-D.\", stacklevel=1)\n"
          ],
          "name": "stderr"
        }
      ]
    },
    {
      "cell_type": "code",
      "metadata": {
        "id": "ZwwXi7RqpYOG"
      },
      "source": [
        ""
      ],
      "execution_count": null,
      "outputs": []
    }
  ]
}