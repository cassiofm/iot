{
  "nbformat": 4,
  "nbformat_minor": 0,
  "metadata": {
    "colab": {
      "name": "teste_iot_01.ipynb",
      "provenance": [],
      "authorship_tag": "ABX9TyMhccYJvDPo+gI128C2j7sS",
      "include_colab_link": true
    },
    "kernelspec": {
      "name": "python3",
      "display_name": "Python 3"
    }
  },
  "cells": [
    {
      "cell_type": "markdown",
      "metadata": {
        "id": "view-in-github",
        "colab_type": "text"
      },
      "source": [
        "<a href=\"https://colab.research.google.com/github/cassiofm/iot/blob/main/teste_iot_01.ipynb\" target=\"_parent\"><img src=\"https://colab.research.google.com/assets/colab-badge.svg\" alt=\"Open In Colab\"/></a>"
      ]
    },
    {
      "cell_type": "code",
      "metadata": {
        "id": "jJcTf6zsuVP3"
      },
      "source": [
        ""
      ],
      "execution_count": null,
      "outputs": []
    },
    {
      "cell_type": "markdown",
      "metadata": {
        "id": "ZOY-t7pnun59"
      },
      "source": [
        "<h1>Internet das Coisas</h1>\n",
        "<h2>Dispositivo Virtual IoT</h2>\n",
        "<h3>Cássio Felix\n",
        "Data: 21/10/2020\n",
        "Versão 1.0</h3>\n",
        "\n",
        "\n"
      ]
    },
    {
      "cell_type": "code",
      "metadata": {
        "id": "czBXVpbBvC58"
      },
      "source": [
        "import http.client as httplib\n",
        "import urllib.request\n",
        "from random import randint\n",
        "import time"
      ],
      "execution_count": 1,
      "outputs": []
    },
    {
      "cell_type": "code",
      "metadata": {
        "id": "ng0vrx8SvYLA"
      },
      "source": [
        ""
      ],
      "execution_count": null,
      "outputs": []
    }
  ]
}